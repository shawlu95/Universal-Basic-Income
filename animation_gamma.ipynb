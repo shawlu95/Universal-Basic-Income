{
 "cells": [
  {
   "cell_type": "code",
   "execution_count": 1,
   "metadata": {},
   "outputs": [],
   "source": [
    "import numpy as np\n",
    "import matplotlib.pyplot as plt\n",
    "from scipy.optimize import fsolve\n",
    "from matplotlib.animation import FuncAnimation\n",
    "import os\n",
    "\n",
    "from params import *\n",
    "\n",
    "tVAT = 0.1 / 4"
   ]
  },
  {
   "cell_type": "code",
   "execution_count": 2,
   "metadata": {},
   "outputs": [],
   "source": [
    "def init():\n",
    "    H = np.zeros(totalStep)\n",
    "    M = np.zeros(totalStep)\n",
    "    Gex = np.zeros(totalStep)\n",
    "    T = np.zeros(totalStep)\n",
    "    H[0] = H0\n",
    "    M[0] = M0\n",
    "    Gex[0] = G0\n",
    "    \n",
    "    return H, M, Gex, T"
   ]
  },
  {
   "cell_type": "code",
   "execution_count": 3,
   "metadata": {},
   "outputs": [
    {
     "data": {
      "image/png": "[encoded data removed]",
      "text/plain": [
       "<Figure size 432x288 with 1 Axes>"
      ]
     },
     "metadata": {
      "needs_background": "light"
     },
     "output_type": "display_data"
    }
   ],
   "source": [
    "fig, ax = plt.subplots()\n",
    "\n",
    "def plotGamma(gamma):\n",
    "    H, M, Gex, T = init()\n",
    "    t = 0\n",
    "\n",
    "    for i in range(1, totalStep):\n",
    "        H[i] = H[i-1] + timeStep * (- c * H[i-1] - logistic(H[i-1]) + (1 - tI) * wageDecay(t, w) * M[i-1])\n",
    "        M[i] = M[i-1] + timeStep * ((1 - tC) * c * H[i-1] + fMultiplier * logistic(H[i-1]) - wageDecay(t, w) * M[i-1] + econGrowth * M[i-1])\n",
    "        Gex[i] = Gex[i-1] + timeStep * (tI * wageDecay(t, w) * M[i-1] + tC * c * H[i-1])\n",
    "\n",
    "        t += timeStep\n",
    "        T[i] = t\n",
    "\n",
    "    H, M, G, T = init()\n",
    "    t = 0\n",
    "\n",
    "    for i in range(1, totalStep):\n",
    "        # addition: t_VAT, UBI, S\n",
    "        H[i] = H[i-1] + timeStep * (UBI * np.exp(gamma * t) - c * H[i-1] - logistic(H[i-1]) + (1 - tI) * wageDecay(t, w) * M[i-1])\n",
    "        M[i] = M[i-1] + timeStep * ((1 - tC) * c * H[i-1] + fMultiplier * logistic(H[i-1]) - wageDecay(t, w) * M[i-1] - tVAT * M[i-1] + econGrowth * M[i-1])\n",
    "        G[i] = G[i-1] + timeStep * (S - UBI * np.exp(gamma * t) + tVAT * M[i-1] + tI * wageDecay(t, w) * M[i-1] + tC * c * H[i-1])\n",
    "        t += timeStep\n",
    "        T[i] = t\n",
    "    \n",
    "    ax.cla()\n",
    "    ax.plot(T, H, label = 'H')\n",
    "    ax.plot(T, M, label = 'M')\n",
    "    ax.plot(T, G - Gex, label = 'G')\n",
    "#     ax.plot(T, H + M + G - Gex, label = 'Sum')\n",
    "    ax.legend(loc=\"upper left\", frameon=False)\n",
    "    \n",
    "    ax.set_title(\"$Gamma$ = %.3f\"%gamma)\n",
    "    ax.set_xlabel(\"Year\")\n",
    "    ax.set_ylabel(\"Million $\")\n",
    "    \n",
    "    ax.set_ylim(-1000, 31000)\n",
    "    ax.set_xlim(-5, 105)\n",
    "\n",
    "plotGamma(np.log(100) / 100)"
   ]
  },
  {
   "cell_type": "code",
   "execution_count": 4,
   "metadata": {},
   "outputs": [
    {
     "name": "stdout",
     "output_type": "stream",
     "text": [
      "2 steps per frame\n",
      "outputs/animated_gamma_4s_25fps.gif\n"
     ]
    }
   ],
   "source": [
    "# duration in seconds\n",
    "duration = 4\n",
    "\n",
    "# frames per seconds\n",
    "fps = 25\n",
    "\n",
    "# total steps\n",
    "end = 200\n",
    "\n",
    "# step per frame\n",
    "spf = int(end / (duration * fps))\n",
    "print(\"%i steps per frame\"%spf)\n",
    "\n",
    "# lower: np.log(100) / 200\n",
    "# upper: np.log(100) / 100\n",
    "frames = [np.log(100) / (100 + i) for i in range(101)]\n",
    "    \n",
    "fname = 'outputs/animated_gamma_%is_%ifps.gif'%(duration, fps)\n",
    "print(fname)"
   ]
  },
  {
   "cell_type": "code",
   "execution_count": 5,
   "metadata": {},
   "outputs": [
    {
     "name": "stdout",
     "output_type": "stream",
     "text": [
      "gamma 0.023026\r"
     ]
    }
   ],
   "source": [
    "def update(t):\n",
    "    print('gamma %f'%t, end=\"\\r\")\n",
    "    return plotGamma(t)\n",
    "\n",
    "# if not os.path.isfile(fname):\n",
    "anim = FuncAnimation(fig, update, frames=frames, interval=1000 / fps)\n",
    "anim.save(fname, dpi=80, writer='imagemagick')\n",
    "plt.close()    "
   ]
  },
  {
   "cell_type": "code",
   "execution_count": null,
   "metadata": {},
   "outputs": [],
   "source": []
  }
 ],
 "metadata": {
  "kernelspec": {
   "display_name": "Python 3",
   "language": "python",
   "name": "python3"
  },
  "language_info": {
   "codemirror_mode": {
    "name": "ipython",
    "version": 3
   },
   "file_extension": ".py",
   "mimetype": "text/x-python",
   "name": "python",
   "nbconvert_exporter": "python",
   "pygments_lexer": "ipython3",
   "version": "3.7.3"
  }
 },
 "nbformat": 4,
 "nbformat_minor": 2
}
