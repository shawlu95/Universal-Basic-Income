{
 "cells": [
  {
   "cell_type": "markdown",
   "metadata": {},
   "source": [
    "#### HW1 Problem 2"
   ]
  },
  {
   "cell_type": "markdown",
   "metadata": {},
   "source": [
    "#### Note:\n",
    "* lam = -1: complex eigenvalue\n",
    "* lam = 0: largest eigenvalue < 1, stable\n",
    "* lam = 1: largest eigenvalue > 1, unstable"
   ]
  },
  {
   "cell_type": "code",
   "execution_count": 1,
   "metadata": {},
   "outputs": [],
   "source": [
    "import sympy as sm\n",
    "import numpy as np\n",
    "from matplotlib import pyplot as plt"
   ]
  },
  {
   "cell_type": "code",
   "execution_count": 2,
   "metadata": {},
   "outputs": [],
   "source": [
    "x, y = sm.symbols('x, y')\n",
    "\n",
    "lam = 1\n",
    "rhs1 = y - 0.5 * x + 5\n",
    "rhs2 = 0.6 * y + lam * x + 5"
   ]
  },
  {
   "cell_type": "markdown",
   "metadata": {},
   "source": [
    "#### Equilibria"
   ]
  },
  {
   "cell_type": "code",
   "execution_count": 3,
   "metadata": {},
   "outputs": [
    {
     "name": "stdout",
     "output_type": "stream",
     "text": [
      "{x: -17.5000000000000, y: -31.2500000000000}\n"
     ]
    }
   ],
   "source": [
    "# equating RIGHT hand side to LEFT hand side\n",
    "eqn1 = sm.Eq(rhs1, x)\n",
    "eqn2 = sm.Eq(rhs2, y)\n",
    "\n",
    "# compute fixed points\n",
    "equilibria = sm.solve((eqn1, eqn2), x, y)\n",
    "print(equilibria)"
   ]
  },
  {
   "cell_type": "markdown",
   "metadata": {},
   "source": [
    "#### Jacobian"
   ]
  },
  {
   "cell_type": "code",
   "execution_count": 4,
   "metadata": {},
   "outputs": [
    {
     "data": {
      "text/plain": [
       "Matrix([\n",
       "[-0.5,   1],\n",
       "[   1, 0.6]])"
      ]
     },
     "execution_count": 4,
     "metadata": {},
     "output_type": "execute_result"
    }
   ],
   "source": [
    "eqMat = sm.Matrix([rhs1, rhs2]) # rate\n",
    "Mat = sm.Matrix([x, y])\n",
    "jacMat = eqMat.jacobian(Mat) # differetiate with respect to Mat\n",
    "\n",
    "jacMat"
   ]
  },
  {
   "cell_type": "markdown",
   "metadata": {},
   "source": [
    "#### Eigenvalues"
   ]
  },
  {
   "cell_type": "code",
   "execution_count": 5,
   "metadata": {},
   "outputs": [
    {
     "name": "stdout",
     "output_type": "stream",
     "text": [
      "-1.0912712210513327\n",
      "1.1912712210513328\n"
     ]
    }
   ],
   "source": [
    "for eigenval in list(jacMat.eigenvals().keys()):\n",
    "    try:\n",
    "        print(float(eigenval))\n",
    "    except:\n",
    "        print(\"complex:\", eigenval)"
   ]
  },
  {
   "cell_type": "markdown",
   "metadata": {},
   "source": [
    "#### Simulating Path"
   ]
  },
  {
   "cell_type": "code",
   "execution_count": 6,
   "metadata": {},
   "outputs": [
    {
     "data": {
      "image/png": "[encoded data removed]",
      "text/plain": [
       "<Figure size 432x288 with 1 Axes>"
      ]
     },
     "metadata": {
      "needs_background": "light"
     },
     "output_type": "display_data"
    }
   ],
   "source": [
    "x_, y_ = 5, 0\n",
    "xs, ys = [x_], [y_]\n",
    "\n",
    "for i in range(15):\n",
    "    x_, y_ = rhs1.subs([(x, x_), (y, y_)]), rhs2.subs([(x, x_), (y, y_)])\n",
    "    xs.append(x_)\n",
    "    ys.append(y_)\n",
    "\n",
    "plt.plot(xs, ys)\n",
    "plt.show()"
   ]
  }
 ],
 "metadata": {
  "kernelspec": {
   "display_name": "Python 3",
   "language": "python",
   "name": "python3"
  },
  "language_info": {
   "codemirror_mode": {
    "name": "ipython",
    "version": 3
   },
   "file_extension": ".py",
   "mimetype": "text/x-python",
   "name": "python",
   "nbconvert_exporter": "python",
   "pygments_lexer": "ipython3",
   "version": "3.7.3"
  }
 },
 "nbformat": 4,
 "nbformat_minor": 2
}
