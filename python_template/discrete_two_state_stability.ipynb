{
 "cells": [
  {
   "cell_type": "markdown",
   "metadata": {},
   "source": [
    "#### HW2 Problem 2\n",
    "##### Linearization for discrete-state system. \n",
    "* Take Jacobian of transition matrix.\n",
    "* Substitute in equilibrium points.\n",
    "* Find eigenvalues."
   ]
  },
  {
   "cell_type": "code",
   "execution_count": null,
   "metadata": {},
   "outputs": [],
   "source": [
    "import sympy as sm\n",
    "\n",
    "x1, x2, a, b = sm.symbols('x1, x2, a, b')\n",
    "\n",
    "rhs1 = a * x1 + x2 ** 2\n",
    "rhs2 = x1 + b * x2"
   ]
  },
  {
   "cell_type": "markdown",
   "metadata": {},
   "source": [
    "#### Equilibria"
   ]
  },
  {
   "cell_type": "code",
   "execution_count": 1,
   "metadata": {},
   "outputs": [
    {
     "name": "stdout",
     "output_type": "stream",
     "text": [
      "[(0, 0), (-(a - 1)*(b - 1)**2, (a - 1)*(b - 1))]\n"
     ]
    }
   ],
   "source": [
    "# use sympy's way of setting LEFT hand side to RIGHT hand side\n",
    "eqn1 = sm.Eq(rhs1, x1)\n",
    "eqn2 = sm.Eq(rhs2, x2)\n",
    "\n",
    "# compute fixed points\n",
    "equilibria = sm.solve((eqn1, eqn2), x1, x2)\n",
    "print(equilibria)"
   ]
  },
  {
   "cell_type": "code",
   "execution_count": 2,
   "metadata": {},
   "outputs": [
    {
     "data": {
      "text/latex": [
       "$\\displaystyle a x_{1} + x_{2}^{2}$"
      ],
      "text/plain": [
       "a*x1 + x2**2"
      ]
     },
     "execution_count": 2,
     "metadata": {},
     "output_type": "execute_result"
    }
   ],
   "source": [
    "rhs1"
   ]
  },
  {
   "cell_type": "code",
   "execution_count": 3,
   "metadata": {},
   "outputs": [
    {
     "data": {
      "text/latex": [
       "$\\displaystyle b x_{2} + x_{1}$"
      ],
      "text/plain": [
       "b*x2 + x1"
      ]
     },
     "execution_count": 3,
     "metadata": {},
     "output_type": "execute_result"
    }
   ],
   "source": [
    "rhs2"
   ]
  },
  {
   "cell_type": "markdown",
   "metadata": {},
   "source": [
    "#### Jacobian"
   ]
  },
  {
   "cell_type": "code",
   "execution_count": 4,
   "metadata": {},
   "outputs": [
    {
     "data": {
      "text/latex": [
       "$\\displaystyle \\left[\\begin{matrix}a & 2 x_{2}\\\\1 & b\\end{matrix}\\right]$"
      ],
      "text/plain": [
       "Matrix([\n",
       "[a, 2*x2],\n",
       "[1,    b]])"
      ]
     },
     "execution_count": 4,
     "metadata": {},
     "output_type": "execute_result"
    }
   ],
   "source": [
    "eqMat = sm.Matrix([rhs1, rhs2]) # rate\n",
    "Mat = sm.Matrix([ x1, x2 ])\n",
    "jacMat = eqMat.jacobian(Mat) # differetiate with respect to Mat\n",
    "\n",
    "jacMat"
   ]
  },
  {
   "cell_type": "markdown",
   "metadata": {},
   "source": [
    "#### Stability"
   ]
  },
  {
   "cell_type": "code",
   "execution_count": 5,
   "metadata": {},
   "outputs": [
    {
     "data": {
      "text/latex": [
       "$\\displaystyle \\left[\\begin{matrix}a & 0\\\\1 & b\\end{matrix}\\right]$"
      ],
      "text/plain": [
       "Matrix([\n",
       "[a, 0],\n",
       "[1, b]])"
      ]
     },
     "execution_count": 5,
     "metadata": {},
     "output_type": "execute_result"
    }
   ],
   "source": [
    "eqmat = jacMat.subs([(x1, 0), (x2, 0)])\n",
    "eqmat"
   ]
  },
  {
   "cell_type": "code",
   "execution_count": 6,
   "metadata": {
    "scrolled": true
   },
   "outputs": [
    {
     "data": {
      "text/plain": [
       "[a, b]"
      ]
     },
     "execution_count": 6,
     "metadata": {},
     "output_type": "execute_result"
    }
   ],
   "source": [
    "list(eqmat.eigenvals().keys())"
   ]
  },
  {
   "cell_type": "code",
   "execution_count": 7,
   "metadata": {},
   "outputs": [
    {
     "name": "stdout",
     "output_type": "stream",
     "text": [
      "The eigenvalues for the fixed point (0, 0) are a and b:\n",
      "-------------------------------------------\n",
      "The eigenvalues for the fixed point (-(a - 1)*(b - 1)**2, (a - 1)*(b - 1)) are a/2 + b/2 - sqrt(a**2 + 6*a*b - 8*a + b**2 - 8*b + 8)/2 and a/2 + b/2 + sqrt(a**2 + 6*a*b - 8*a + b**2 - 8*b + 8)/2:\n",
      "-------------------------------------------\n"
     ]
    }
   ],
   "source": [
    "# iterate through list of equilibria\n",
    "for point in equilibria:\n",
    "    eqmat = jacMat.subs([(x1, point[0]), (x2, point[1])])\n",
    "    w = list(eqmat.eigenvals().keys())\n",
    "    \n",
    "    print('The eigenvalues for the fixed point (%s, %s) are %s and %s:' \n",
    "          %(point[0], point[1], w[0], w[1]))\n",
    "    print('-------------------------------------------')"
   ]
  }
 ],
 "metadata": {
  "kernelspec": {
   "display_name": "Python 3",
   "language": "python",
   "name": "python3"
  },
  "language_info": {
   "codemirror_mode": {
    "name": "ipython",
    "version": 3
   },
   "file_extension": ".py",
   "mimetype": "text/x-python",
   "name": "python",
   "nbconvert_exporter": "python",
   "pygments_lexer": "ipython3",
   "version": "3.7.3"
  }
 },
 "nbformat": 4,
 "nbformat_minor": 2
}
