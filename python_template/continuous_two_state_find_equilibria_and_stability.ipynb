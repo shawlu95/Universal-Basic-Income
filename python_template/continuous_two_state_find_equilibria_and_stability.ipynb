{
 "cells": [
  {
   "cell_type": "markdown",
   "metadata": {},
   "source": [
    "#### Find Equilibria\n",
    "* System is defined for rate of change (left hand side of equation).\n",
    "* Set rate to zero to solve for equilibria.\n",
    "* Compite jacobian and substitute equilibria to determine stability.\n",
    "\n",
    "```python\n",
    "import sympy as sm\n",
    "\n",
    "x, y = sm.symbols('x, y')\n",
    "eq1 = - 2 * x + x ** 2 - 4 * x * y\n",
    "eq2 = - y + y ** 2 - x * y\n",
    "\n",
    "# use sympy's way of setting equations to zero\n",
    "equilibria = sm.solve((sm.Eq(eq1, 0), sm.Eq(eq2, 0)), x, y)\n",
    "print(equilibria)\n",
    "```"
   ]
  },
  {
   "cell_type": "code",
   "execution_count": 1,
   "metadata": {},
   "outputs": [
    {
     "name": "stdout",
     "output_type": "stream",
     "text": [
      "[(-2, -1), (0, 0), (0, 1), (2, 0)]\n"
     ]
    }
   ],
   "source": [
    "import sympy as sm\n",
    "\n",
    "# define variable\n",
    "x, y = sm.symbols('x, y')\n",
    "\n",
    "# define rate of change\n",
    "eq1 = - 2 * x + x ** 2 - 4 * x * y\n",
    "eq2 = - y + y ** 2 - x * y\n",
    "\n",
    "# use sympy's way of setting equations to zero\n",
    "equilibria = sm.solve((sm.Eq(eq1, 0), sm.Eq(eq2, 0)), x, y)\n",
    "\n",
    "print(equilibria)"
   ]
  },
  {
   "cell_type": "markdown",
   "metadata": {},
   "source": [
    "#### Stability of Equilibria"
   ]
  },
  {
   "cell_type": "code",
   "execution_count": 2,
   "metadata": {},
   "outputs": [
    {
     "data": {
      "text/plain": [
       "Matrix([\n",
       "[2*x - 4*y - 2,         -4*x],\n",
       "[           -y, -x + 2*y - 1]])"
      ]
     },
     "execution_count": 2,
     "metadata": {},
     "output_type": "execute_result"
    }
   ],
   "source": [
    "A = sm.Matrix([ eq1, eq2 ]) # rate matrix A\n",
    "stateVars = sm.Matrix([ x, y ])\n",
    "jacob = A.jacobian(stateVars) # differetiate with respect to variables\n",
    "\n",
    "jacob"
   ]
  },
  {
   "cell_type": "code",
   "execution_count": 3,
   "metadata": {},
   "outputs": [
    {
     "name": "stdout",
     "output_type": "stream",
     "text": [
      "The eigenvalues for the fixed point (-2, -1) are -sqrt(33)/2 - 3/2 and -3/2 + sqrt(33)/2:\n",
      "saddle point\n",
      "-------------------------------------------\n",
      "The eigenvalues for the fixed point (0, 0) are -2 and -1:\n",
      "stable\n",
      "-------------------------------------------\n",
      "The eigenvalues for the fixed point (0, 1) are -6 and 1:\n",
      "saddle point\n",
      "-------------------------------------------\n",
      "The eigenvalues for the fixed point (2, 0) are 2 and -3:\n",
      "saddle point\n",
      "-------------------------------------------\n"
     ]
    }
   ],
   "source": [
    "# iterate through list of equilibria\n",
    "for point in equilibria:\n",
    "    eqmat = jacob.subs([(x, point[0]), (y, point[1])])\n",
    "    w = list(eqmat.eigenvals().keys())\n",
    "    \n",
    "    print('The eigenvalues for the fixed point (%s, %s) are %s and %s:' \n",
    "          %(point[0], point[1], w[0], w[1]))\n",
    "    if w[0] * w[1] < 0:\n",
    "        print(\"saddle point\")\n",
    "    elif max(w) > 0:\n",
    "        print(\"unstable\")\n",
    "    elif max(w) == 0:\n",
    "        print(\"marginally stable\")\n",
    "    elif max(w) < 0:\n",
    "        print(\"stable\")\n",
    "    print('-------------------------------------------')"
   ]
  },
  {
   "cell_type": "code",
   "execution_count": null,
   "metadata": {},
   "outputs": [],
   "source": []
  }
 ],
 "metadata": {
  "kernelspec": {
   "display_name": "Python 3",
   "language": "python",
   "name": "python3"
  },
  "language_info": {
   "codemirror_mode": {
    "name": "ipython",
    "version": 3
   },
   "file_extension": ".py",
   "mimetype": "text/x-python",
   "name": "python",
   "nbconvert_exporter": "python",
   "pygments_lexer": "ipython3",
   "version": "3.7.3"
  }
 },
 "nbformat": 4,
 "nbformat_minor": 2
}
